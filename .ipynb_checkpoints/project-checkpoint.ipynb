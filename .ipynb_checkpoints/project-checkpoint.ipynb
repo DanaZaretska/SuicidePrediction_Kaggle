{
 "cells": [
  {
   "cell_type": "markdown",
   "id": "23ae128c-fa16-4063-8152-8d66b9f07000",
   "metadata": {},
   "source": [
    "# Suicide Rates Prediction "
   ]
  },
  {
   "cell_type": "markdown",
   "id": "48d00cf5-c36e-40b2-9bba-ef4624829b34",
   "metadata": {},
   "source": [
    "---\n",
    "### <span style=\"color: gray;\">Data Description</span>\n",
    "\n",
    "- ### Features\n",
    "    * country: The name of the country\n",
    "    * year: The year for which the no. of suicides were recorded\n",
    "    * sex: The sex of the victims\n",
    "    * age: Age range of the victims\n",
    "    * population: Total population of the country in that year\n",
    "    * country-year: The features country and year, combined (for whatever reason)\n",
    "    * HDI for year: The value of the Human Development Index for the country, for that year\n",
    "    * gdp_for_year (in dollars): The value of the Gross Domestic Product for the country, for that year\n",
    "    * gdp_per_capita (in dollars): The value of the Gross Domestic Product (per capita) for the country, for that year\n",
    "    * generation: Something based on the age grouping average (Not clear about what it really is)\n",
    "- ### Target Variable\n",
    "    * suicides_no: You have to predict the no. of suicides from the given data, for the given country for the given year.\n",
    "---"
   ]
  },
  {
   "cell_type": "code",
   "execution_count": 1,
   "id": "bd2e3831-4fa5-4634-bcfc-09440a4e799b",
   "metadata": {},
   "outputs": [
    {
     "data": {
      "text/html": [
       "<div>\n",
       "<style scoped>\n",
       "    .dataframe tbody tr th:only-of-type {\n",
       "        vertical-align: middle;\n",
       "    }\n",
       "\n",
       "    .dataframe tbody tr th {\n",
       "        vertical-align: top;\n",
       "    }\n",
       "\n",
       "    .dataframe thead th {\n",
       "        text-align: right;\n",
       "    }\n",
       "</style>\n",
       "<table border=\"1\" class=\"dataframe\">\n",
       "  <thead>\n",
       "    <tr style=\"text-align: right;\">\n",
       "      <th></th>\n",
       "      <th>id</th>\n",
       "      <th>country</th>\n",
       "      <th>year</th>\n",
       "      <th>sex</th>\n",
       "      <th>age</th>\n",
       "      <th>suicides_no</th>\n",
       "      <th>population</th>\n",
       "      <th>country-year</th>\n",
       "      <th>HDI for year</th>\n",
       "      <th>gdp_for_year ($)</th>\n",
       "      <th>gdp_per_capita ($)</th>\n",
       "      <th>generation</th>\n",
       "    </tr>\n",
       "  </thead>\n",
       "  <tbody>\n",
       "    <tr>\n",
       "      <th>0</th>\n",
       "      <td>0</td>\n",
       "      <td>Albania</td>\n",
       "      <td>1987</td>\n",
       "      <td>male</td>\n",
       "      <td>15-24 years</td>\n",
       "      <td>21</td>\n",
       "      <td>312900</td>\n",
       "      <td>Albania1987</td>\n",
       "      <td>NaN</td>\n",
       "      <td>2,156,624,900</td>\n",
       "      <td>796</td>\n",
       "      <td>Generation X</td>\n",
       "    </tr>\n",
       "    <tr>\n",
       "      <th>1</th>\n",
       "      <td>1</td>\n",
       "      <td>Albania</td>\n",
       "      <td>1987</td>\n",
       "      <td>male</td>\n",
       "      <td>35-54 years</td>\n",
       "      <td>16</td>\n",
       "      <td>308000</td>\n",
       "      <td>Albania1987</td>\n",
       "      <td>NaN</td>\n",
       "      <td>2,156,624,900</td>\n",
       "      <td>796</td>\n",
       "      <td>Silent</td>\n",
       "    </tr>\n",
       "    <tr>\n",
       "      <th>2</th>\n",
       "      <td>2</td>\n",
       "      <td>Albania</td>\n",
       "      <td>1987</td>\n",
       "      <td>female</td>\n",
       "      <td>15-24 years</td>\n",
       "      <td>14</td>\n",
       "      <td>289700</td>\n",
       "      <td>Albania1987</td>\n",
       "      <td>NaN</td>\n",
       "      <td>2,156,624,900</td>\n",
       "      <td>796</td>\n",
       "      <td>Generation X</td>\n",
       "    </tr>\n",
       "    <tr>\n",
       "      <th>3</th>\n",
       "      <td>3</td>\n",
       "      <td>Albania</td>\n",
       "      <td>1987</td>\n",
       "      <td>male</td>\n",
       "      <td>75+ years</td>\n",
       "      <td>1</td>\n",
       "      <td>21800</td>\n",
       "      <td>Albania1987</td>\n",
       "      <td>NaN</td>\n",
       "      <td>2,156,624,900</td>\n",
       "      <td>796</td>\n",
       "      <td>G.I. Generation</td>\n",
       "    </tr>\n",
       "    <tr>\n",
       "      <th>4</th>\n",
       "      <td>4</td>\n",
       "      <td>Albania</td>\n",
       "      <td>1987</td>\n",
       "      <td>male</td>\n",
       "      <td>25-34 years</td>\n",
       "      <td>9</td>\n",
       "      <td>274300</td>\n",
       "      <td>Albania1987</td>\n",
       "      <td>NaN</td>\n",
       "      <td>2,156,624,900</td>\n",
       "      <td>796</td>\n",
       "      <td>Boomers</td>\n",
       "    </tr>\n",
       "    <tr>\n",
       "      <th>...</th>\n",
       "      <td>...</td>\n",
       "      <td>...</td>\n",
       "      <td>...</td>\n",
       "      <td>...</td>\n",
       "      <td>...</td>\n",
       "      <td>...</td>\n",
       "      <td>...</td>\n",
       "      <td>...</td>\n",
       "      <td>...</td>\n",
       "      <td>...</td>\n",
       "      <td>...</td>\n",
       "      <td>...</td>\n",
       "    </tr>\n",
       "    <tr>\n",
       "      <th>18078</th>\n",
       "      <td>18078</td>\n",
       "      <td>Norway</td>\n",
       "      <td>2003</td>\n",
       "      <td>female</td>\n",
       "      <td>35-54 years</td>\n",
       "      <td>45</td>\n",
       "      <td>629033</td>\n",
       "      <td>Norway2003</td>\n",
       "      <td>NaN</td>\n",
       "      <td>228,752,436,372</td>\n",
       "      <td>53533</td>\n",
       "      <td>Boomers</td>\n",
       "    </tr>\n",
       "    <tr>\n",
       "      <th>18079</th>\n",
       "      <td>18079</td>\n",
       "      <td>Norway</td>\n",
       "      <td>2003</td>\n",
       "      <td>female</td>\n",
       "      <td>25-34 years</td>\n",
       "      <td>22</td>\n",
       "      <td>321320</td>\n",
       "      <td>Norway2003</td>\n",
       "      <td>NaN</td>\n",
       "      <td>228,752,436,372</td>\n",
       "      <td>53533</td>\n",
       "      <td>Generation X</td>\n",
       "    </tr>\n",
       "    <tr>\n",
       "      <th>18080</th>\n",
       "      <td>18080</td>\n",
       "      <td>Norway</td>\n",
       "      <td>2003</td>\n",
       "      <td>female</td>\n",
       "      <td>15-24 years</td>\n",
       "      <td>17</td>\n",
       "      <td>269608</td>\n",
       "      <td>Norway2003</td>\n",
       "      <td>NaN</td>\n",
       "      <td>228,752,436,372</td>\n",
       "      <td>53533</td>\n",
       "      <td>Millenials</td>\n",
       "    </tr>\n",
       "    <tr>\n",
       "      <th>18081</th>\n",
       "      <td>18081</td>\n",
       "      <td>Norway</td>\n",
       "      <td>2003</td>\n",
       "      <td>female</td>\n",
       "      <td>75+ years</td>\n",
       "      <td>11</td>\n",
       "      <td>220907</td>\n",
       "      <td>Norway2003</td>\n",
       "      <td>NaN</td>\n",
       "      <td>228,752,436,372</td>\n",
       "      <td>53533</td>\n",
       "      <td>Silent</td>\n",
       "    </tr>\n",
       "    <tr>\n",
       "      <th>18082</th>\n",
       "      <td>18082</td>\n",
       "      <td>Norway</td>\n",
       "      <td>2003</td>\n",
       "      <td>male</td>\n",
       "      <td>5-14 years</td>\n",
       "      <td>6</td>\n",
       "      <td>317824</td>\n",
       "      <td>Norway2003</td>\n",
       "      <td>NaN</td>\n",
       "      <td>228,752,436,372</td>\n",
       "      <td>53533</td>\n",
       "      <td>Millenials</td>\n",
       "    </tr>\n",
       "  </tbody>\n",
       "</table>\n",
       "<p>18083 rows × 12 columns</p>\n",
       "</div>"
      ],
      "text/plain": [
       "          id  country  year     sex          age  suicides_no  population  \\\n",
       "0          0  Albania  1987    male  15-24 years           21      312900   \n",
       "1          1  Albania  1987    male  35-54 years           16      308000   \n",
       "2          2  Albania  1987  female  15-24 years           14      289700   \n",
       "3          3  Albania  1987    male    75+ years            1       21800   \n",
       "4          4  Albania  1987    male  25-34 years            9      274300   \n",
       "...      ...      ...   ...     ...          ...          ...         ...   \n",
       "18078  18078   Norway  2003  female  35-54 years           45      629033   \n",
       "18079  18079   Norway  2003  female  25-34 years           22      321320   \n",
       "18080  18080   Norway  2003  female  15-24 years           17      269608   \n",
       "18081  18081   Norway  2003  female    75+ years           11      220907   \n",
       "18082  18082   Norway  2003    male   5-14 years            6      317824   \n",
       "\n",
       "      country-year  HDI for year  gdp_for_year ($)   gdp_per_capita ($)  \\\n",
       "0      Albania1987           NaN      2,156,624,900                 796   \n",
       "1      Albania1987           NaN      2,156,624,900                 796   \n",
       "2      Albania1987           NaN      2,156,624,900                 796   \n",
       "3      Albania1987           NaN      2,156,624,900                 796   \n",
       "4      Albania1987           NaN      2,156,624,900                 796   \n",
       "...            ...           ...                ...                 ...   \n",
       "18078   Norway2003           NaN    228,752,436,372               53533   \n",
       "18079   Norway2003           NaN    228,752,436,372               53533   \n",
       "18080   Norway2003           NaN    228,752,436,372               53533   \n",
       "18081   Norway2003           NaN    228,752,436,372               53533   \n",
       "18082   Norway2003           NaN    228,752,436,372               53533   \n",
       "\n",
       "            generation  \n",
       "0         Generation X  \n",
       "1               Silent  \n",
       "2         Generation X  \n",
       "3      G.I. Generation  \n",
       "4              Boomers  \n",
       "...                ...  \n",
       "18078          Boomers  \n",
       "18079     Generation X  \n",
       "18080       Millenials  \n",
       "18081           Silent  \n",
       "18082       Millenials  \n",
       "\n",
       "[18083 rows x 12 columns]"
      ]
     },
     "execution_count": 1,
     "metadata": {},
     "output_type": "execute_result"
    }
   ],
   "source": [
    "import numpy as np\n",
    "import pandas as pd\n",
    "import matplotlib.pyplot as plt\n",
    "import seaborn as sns\n",
    "sns.set_palette(\"rocket\")\n",
    "data = pd.read_csv('Data\\\\train.csv')\n",
    "data"
   ]
  },
  {
   "cell_type": "code",
   "execution_count": 2,
   "id": "955a27d1-194d-48dc-9fc3-e9c109074333",
   "metadata": {},
   "outputs": [
    {
     "data": {
      "text/html": [
       "<div>\n",
       "<style scoped>\n",
       "    .dataframe tbody tr th:only-of-type {\n",
       "        vertical-align: middle;\n",
       "    }\n",
       "\n",
       "    .dataframe tbody tr th {\n",
       "        vertical-align: top;\n",
       "    }\n",
       "\n",
       "    .dataframe thead th {\n",
       "        text-align: right;\n",
       "    }\n",
       "</style>\n",
       "<table border=\"1\" class=\"dataframe\">\n",
       "  <thead>\n",
       "    <tr style=\"text-align: right;\">\n",
       "      <th></th>\n",
       "      <th>id</th>\n",
       "      <th>year</th>\n",
       "      <th>suicides_no</th>\n",
       "      <th>population</th>\n",
       "      <th>HDI for year</th>\n",
       "      <th>gdp_per_capita ($)</th>\n",
       "    </tr>\n",
       "  </thead>\n",
       "  <tbody>\n",
       "    <tr>\n",
       "      <th>count</th>\n",
       "      <td>18083.000000</td>\n",
       "      <td>18083.000000</td>\n",
       "      <td>18083.000000</td>\n",
       "      <td>1.808300e+04</td>\n",
       "      <td>5616.000000</td>\n",
       "      <td>18083.000000</td>\n",
       "    </tr>\n",
       "    <tr>\n",
       "      <th>mean</th>\n",
       "      <td>9041.000000</td>\n",
       "      <td>2001.052314</td>\n",
       "      <td>167.802190</td>\n",
       "      <td>1.445742e+06</td>\n",
       "      <td>0.778370</td>\n",
       "      <td>16945.078416</td>\n",
       "    </tr>\n",
       "    <tr>\n",
       "      <th>std</th>\n",
       "      <td>5220.256794</td>\n",
       "      <td>8.465100</td>\n",
       "      <td>523.663271</td>\n",
       "      <td>3.016681e+06</td>\n",
       "      <td>0.093518</td>\n",
       "      <td>17872.517574</td>\n",
       "    </tr>\n",
       "    <tr>\n",
       "      <th>min</th>\n",
       "      <td>0.000000</td>\n",
       "      <td>1985.000000</td>\n",
       "      <td>0.000000</td>\n",
       "      <td>2.780000e+02</td>\n",
       "      <td>0.483000</td>\n",
       "      <td>251.000000</td>\n",
       "    </tr>\n",
       "    <tr>\n",
       "      <th>25%</th>\n",
       "      <td>4520.500000</td>\n",
       "      <td>1994.000000</td>\n",
       "      <td>2.000000</td>\n",
       "      <td>7.807950e+04</td>\n",
       "      <td>0.717750</td>\n",
       "      <td>3573.000000</td>\n",
       "    </tr>\n",
       "    <tr>\n",
       "      <th>50%</th>\n",
       "      <td>9041.000000</td>\n",
       "      <td>2001.000000</td>\n",
       "      <td>20.000000</td>\n",
       "      <td>3.814000e+05</td>\n",
       "      <td>0.784000</td>\n",
       "      <td>10499.000000</td>\n",
       "    </tr>\n",
       "    <tr>\n",
       "      <th>75%</th>\n",
       "      <td>13561.500000</td>\n",
       "      <td>2008.000000</td>\n",
       "      <td>111.000000</td>\n",
       "      <td>1.206450e+06</td>\n",
       "      <td>0.857500</td>\n",
       "      <td>25622.000000</td>\n",
       "    </tr>\n",
       "    <tr>\n",
       "      <th>max</th>\n",
       "      <td>18082.000000</td>\n",
       "      <td>2016.000000</td>\n",
       "      <td>8948.000000</td>\n",
       "      <td>2.846186e+07</td>\n",
       "      <td>0.935000</td>\n",
       "      <td>126352.000000</td>\n",
       "    </tr>\n",
       "  </tbody>\n",
       "</table>\n",
       "</div>"
      ],
      "text/plain": [
       "                 id          year   suicides_no    population  HDI for year  \\\n",
       "count  18083.000000  18083.000000  18083.000000  1.808300e+04   5616.000000   \n",
       "mean    9041.000000   2001.052314    167.802190  1.445742e+06      0.778370   \n",
       "std     5220.256794      8.465100    523.663271  3.016681e+06      0.093518   \n",
       "min        0.000000   1985.000000      0.000000  2.780000e+02      0.483000   \n",
       "25%     4520.500000   1994.000000      2.000000  7.807950e+04      0.717750   \n",
       "50%     9041.000000   2001.000000     20.000000  3.814000e+05      0.784000   \n",
       "75%    13561.500000   2008.000000    111.000000  1.206450e+06      0.857500   \n",
       "max    18082.000000   2016.000000   8948.000000  2.846186e+07      0.935000   \n",
       "\n",
       "       gdp_per_capita ($)  \n",
       "count        18083.000000  \n",
       "mean         16945.078416  \n",
       "std          17872.517574  \n",
       "min            251.000000  \n",
       "25%           3573.000000  \n",
       "50%          10499.000000  \n",
       "75%          25622.000000  \n",
       "max         126352.000000  "
      ]
     },
     "execution_count": 2,
     "metadata": {},
     "output_type": "execute_result"
    }
   ],
   "source": [
    "data.describe()"
   ]
  },
  {
   "cell_type": "code",
   "execution_count": 3,
   "id": "70376664-0819-4095-825e-d471d7e1e77f",
   "metadata": {},
   "outputs": [
    {
     "name": "stdout",
     "output_type": "stream",
     "text": [
      "id                      int64\n",
      "country                object\n",
      "year                    int64\n",
      "sex                    object\n",
      "age                    object\n",
      "suicides_no             int64\n",
      "population              int64\n",
      "country-year           object\n",
      "HDI for year          float64\n",
      " gdp_for_year ($)      object\n",
      "gdp_per_capita ($)      int64\n",
      "generation             object\n",
      "dtype: object\n"
     ]
    }
   ],
   "source": [
    "print(data.dtypes)\n",
    "\n",
    "# ' gdp_for_year ($) ' column (which logically is an int number) is interpretated like 'object' because of the commas in the values.\n",
    "# We need to remove commas and change column type from string to int\n",
    "\n",
    "data[' gdp_for_year ($) '] = data[' gdp_for_year ($) '].apply(lambda string: int(string.replace(',', '')))"
   ]
  },
  {
   "cell_type": "code",
   "execution_count": 4,
   "id": "e499d7ec-3781-48d4-8e1f-468655055f6c",
   "metadata": {},
   "outputs": [
    {
     "name": "stdout",
     "output_type": "stream",
     "text": [
      "id 0\n",
      "country 0\n",
      "year 0\n",
      "sex 0\n",
      "age 0\n",
      "suicides_no 0\n",
      "population 0\n",
      "country-year 0\n",
      "HDI for year 12467\n",
      " gdp_for_year ($)  0\n",
      "gdp_per_capita ($) 0\n",
      "generation 0\n"
     ]
    }
   ],
   "source": [
    "# Looking for columns with missed values\n",
    "\n",
    "for col in data.columns:\n",
    "    print(col, data[col].isnull().sum())\n",
    "    \n",
    "# only 'HDI for year' with many NaNs -> delete this column\n",
    "data.drop('HDI for year', inplace=True, axis=1)"
   ]
  },
  {
   "cell_type": "markdown",
   "id": "3a4c38de-6d46-4e87-aea5-f0c51ee3a54d",
   "metadata": {},
   "source": [
    "***\n",
    "Let's count suicide percentage per every country. Analyzing the 'country' column, we see that few countries have very small amount of observation. So, I consider not to count suicide coefficient for countries, which were mentioned less than 50 times in the dataset, but to change it with mean coefficient value.\n",
    "***"
   ]
  },
  {
   "cell_type": "code",
   "execution_count": 5,
   "id": "0ce44f61-82b0-4747-8dd0-504424666332",
   "metadata": {},
   "outputs": [
    {
     "name": "stdout",
     "output_type": "stream",
     "text": [
      "Value counts for 'country' column:\n",
      "Mauritius      382\n",
      "Austria        382\n",
      "Iceland        382\n",
      "Netherlands    382\n",
      "Greece         372\n",
      "Name: country, dtype: int64\n",
      "Montenegro                120\n",
      "Maldives                  120\n",
      "Nicaragua                  72\n",
      "Bosnia and Herzegovina     24\n",
      "Dominica                   12\n",
      "Cabo Verde                 12\n",
      "Macau                      12\n",
      "Mongolia                   10\n",
      "Name: country, dtype: int64\n",
      "\n",
      "Suicide coefficients for each country:\n"
     ]
    },
    {
     "data": {
      "text/plain": [
       "{'Lithuania': 0.00041,\n",
       " 'Hungary': 0.0003,\n",
       " 'Belarus': 0.0003,\n",
       " 'Latvia': 0.00028,\n",
       " 'Kazakhstan': 0.00027,\n",
       " 'Estonia': 0.00026,\n",
       " 'Finland': 0.00024,\n",
       " 'Japan': 0.00022,\n",
       " 'Austria': 0.00021,\n",
       " 'Belgium': 0.00021,\n",
       " 'Guyana': 0.00021,\n",
       " 'France': 0.0002,\n",
       " 'Croatia': 0.0002,\n",
       " 'Czech Republic': 0.00017,\n",
       " 'Bulgaria': 0.00016,\n",
       " 'Cuba': 0.00016,\n",
       " 'Luxembourg': 0.00015,\n",
       " 'New Zealand': 0.00014,\n",
       " 'Germany': 0.00014,\n",
       " 'Denmark': 0.00014,\n",
       " 'Norway': 0.00014,\n",
       " 'Iceland': 0.00013,\n",
       " 'Australia': 0.00013,\n",
       " 'Canada': 0.00013,\n",
       " 'Mauritius': 0.00012,\n",
       " 'Ireland': 0.00012,\n",
       " 'Netherlands': 0.00011,\n",
       " 'Kyrgyzstan': 0.00011,\n",
       " 'Chile': 0.0001,\n",
       " 'El Salvador': 9e-05,\n",
       " 'Italy': 8e-05,\n",
       " 'Argentina': 8e-05,\n",
       " 'Aruba': 8e-05,\n",
       " 'Montenegro': 8e-05,\n",
       " 'Israel': 7e-05,\n",
       " 'Costa Rica': 7e-05,\n",
       " 'Kiribati': 7e-05,\n",
       " 'Ecuador': 6e-05,\n",
       " 'Belize': 6e-05,\n",
       " 'Nicaragua': 6e-05,\n",
       " 'Brazil': 5e-05,\n",
       " 'Colombia': 5e-05,\n",
       " 'Malta': 5e-05,\n",
       " 'Greece': 4e-05,\n",
       " 'Mexico': 4e-05,\n",
       " 'Cyprus': 4e-05,\n",
       " 'Fiji': 4e-05,\n",
       " 'Guatemala': 3e-05,\n",
       " 'Barbados': 3e-05,\n",
       " 'Albania': 3e-05,\n",
       " 'Georgia': 3e-05,\n",
       " 'Bahrain': 3e-05,\n",
       " 'Grenada': 2e-05,\n",
       " 'Kuwait': 2e-05,\n",
       " 'Armenia': 2e-05,\n",
       " 'Antigua and Barbuda': 1e-05,\n",
       " 'Bahamas': 1e-05,\n",
       " 'Azerbaijan': 1e-05,\n",
       " 'Maldives': 1e-05,\n",
       " 'Jamaica': 0.0,\n",
       " 'Bosnia and Herzegovina': 0.00011,\n",
       " 'Dominica': 0.00011,\n",
       " 'Cabo Verde': 0.00011,\n",
       " 'Macau': 0.00011,\n",
       " 'Mongolia': 0.00011}"
      ]
     },
     "execution_count": 5,
     "metadata": {},
     "output_type": "execute_result"
    }
   ],
   "source": [
    "print(\"Value counts for 'country' column:\")\n",
    "print(data['country'].value_counts().head())\n",
    "print(data['country'].value_counts().tail(8))\n",
    "\n",
    "# making array only with countries that were mentioned more than 50 times and separate array whith other few countries\n",
    "countries_value_counts = dict(data['country'].value_counts())\n",
    "countries = np.array([key for key in countries_value_counts if countries_value_counts[key] > 50])\n",
    "countries_left = np.array([key for key in countries_value_counts if countries_value_counts[key] < 50])\n",
    "\n",
    "\n",
    "# making dictionary with suicide coefficients\n",
    "frequencies = [round(data[data['country'] == country_name]['suicides_no'].sum() / data[data['country'] == country_name]['population'].sum(), 5) for country_name in countries]\n",
    "frequencies_dict = dict(zip(countries, frequencies))\n",
    "frequencies_dict = dict(sorted(frequencies_dict.items(), key = lambda x: x[1], reverse=True))\n",
    "\n",
    "\n",
    "# calculating mean suicide percentage\n",
    "coefficient_mean = round(np.array(list(frequencies_dict.values())).mean(), 5)\n",
    "\n",
    "# adding countries which has been removed earlier\n",
    "for country in countries_left:\n",
    "    frequencies_dict[country] = coefficient_mean\n",
    "    \n",
    "\n",
    "print(\"\\nSuicide coefficients for each country:\")\n",
    "frequencies_dict\n"
   ]
  },
  {
   "cell_type": "code",
   "execution_count": 6,
   "id": "9e3bfb53-fab3-4b62-ad21-a0730443c27f",
   "metadata": {},
   "outputs": [],
   "source": [
    "# adding new column with suicide coefficients for each country\n",
    "\n",
    "data['country_coef'] = data['country'].map(frequencies_dict)"
   ]
  },
  {
   "cell_type": "code",
   "execution_count": 7,
   "id": "519e4ffc-1edb-4ba9-9786-5fe6503af96d",
   "metadata": {},
   "outputs": [],
   "source": [
    "# adding new column which will represent gender numerically\n",
    "data['sex_numeric'] = np.where(data['sex'] == 'male', 0, 1)\n",
    "\n",
    "# adding new column which will represent age numerically (taking only first age value in string)\n",
    "data['min_age'] = data['age'].apply(lambda string: int(string[:2]) if string[1].isnumeric() else int(string[:1]))"
   ]
  },
  {
   "cell_type": "markdown",
   "id": "4ce23ef7-22cb-43d3-9d7d-49afc003f1b6",
   "metadata": {},
   "source": [
    "## Exploring generation's values"
   ]
  },
  {
   "cell_type": "markdown",
   "id": "3c0a66c3-cbee-485a-aee7-e1f4ec2101d3",
   "metadata": {},
   "source": [
    "<img src=\"generations.jpg\" />"
   ]
  },
  {
   "cell_type": "code",
   "execution_count": 8,
   "id": "eae643ab-730b-4bb7-83c3-c0d50272aac2",
   "metadata": {},
   "outputs": [
    {
     "name": "stdout",
     "output_type": "stream",
     "text": [
      "Unique generation values in the dataset:  ['Generation X' 'Silent' 'G.I. Generation' 'Boomers' 'Millenials'\n",
      " 'Generation Z']\n"
     ]
    }
   ],
   "source": [
    "print(\"Unique generation values in the dataset: \", data['generation'].unique())\n",
    "\n",
    "# Making a numeric column which will represent generation values by age descending\n",
    "generation_dict = dict(zip(\n",
    "            ['G.I. Generation', 'Silent', 'Boomers', 'Generation X', 'Millenials', 'Generation Z'],\n",
    "            [6, 5, 4, 3, 2, 1]))\n",
    "\n",
    "data['generation_numeric'] = data['generation'].map(generation_dict)"
   ]
  },
  {
   "cell_type": "code",
   "execution_count": 9,
   "id": "fce09a1d-52b7-4534-b6ff-a5812ce66d53",
   "metadata": {},
   "outputs": [
    {
     "data": {
      "image/png": "[encoded data removed]",
      "text/plain": [
       "<Figure size 720x360 with 2 Axes>"
      ]
     },
     "metadata": {
      "needs_background": "light"
     },
     "output_type": "display_data"
    }
   ],
   "source": [
    "plt.figure(figsize=(10, 5))\n",
    "sns.heatmap(data.corr(), annot = True)\n",
    "plt.show()"
   ]
  },
  {
   "cell_type": "code",
   "execution_count": 10,
   "id": "0dc9fc5c-41d1-4418-ae0f-6588e51ff835",
   "metadata": {},
   "outputs": [
    {
     "name": "stdout",
     "output_type": "stream",
     "text": [
      "Male:  0.7415467542324313 %\n",
      "Female:  0.2584532457675687 %\n"
     ]
    },
    {
     "data": {
      "image/png": "[encoded data removed]",
      "text/plain": [
       "<Figure size 432x288 with 1 Axes>"
      ]
     },
     "metadata": {
      "needs_background": "light"
     },
     "output_type": "display_data"
    }
   ],
   "source": [
    "a = data[data['sex_numeric'] == 0]['suicides_no'].sum()\n",
    "b = data[data['sex_numeric'] == 1]['suicides_no'].sum()\n",
    "\n",
    "print('Male: ', a / (a + b), '%')\n",
    "print('Female: ', b / (a + b), '%')\n",
    "\n",
    "sns.barplot(x='sex',y='suicides_no',data=data)\n",
    "plt.title('Gender dependency')\n",
    "plt.show()"
   ]
  },
  {
   "cell_type": "code",
   "execution_count": 11,
   "id": "f3ddaeed-6552-4507-afba-6a805411d187",
   "metadata": {},
   "outputs": [
    {
     "data": {
      "image/png": "[encoded data removed]",
      "text/plain": [
       "<Figure size 1152x432 with 2 Axes>"
      ]
     },
     "metadata": {
      "needs_background": "light"
     },
     "output_type": "display_data"
    }
   ],
   "source": [
    "plt.figure(figsize=(16,6))\n",
    "plt.subplot(1, 2, 1)\n",
    "sns.barplot(x='generation_numeric',y='suicides_no', data=data, palette='flare')\n",
    "plt.title('generation dependency')\n",
    "\n",
    "plt.subplot(1, 2, 2)\n",
    "sns.barplot(x='min_age',y='suicides_no', data=data, palette='flare')\n",
    "plt.title('age dependency')\n",
    "plt.show()"
   ]
  },
  {
   "cell_type": "code",
   "execution_count": 38,
   "id": "1bab7362-75c1-4162-b18d-4a006e460085",
   "metadata": {},
   "outputs": [
    {
     "data": {
      "image/png": "[encoded data removed]",
      "text/plain": [
       "<Figure size 432x288 with 1 Axes>"
      ]
     },
     "metadata": {
      "needs_background": "light"
     },
     "output_type": "display_data"
    }
   ],
   "source": [
    "sns.regplot(y=\"country_coef\", x=\"min_age\", data=data, x_estimator=np.mean)\n",
    "plt.show()"
   ]
  },
  {
   "cell_type": "markdown",
   "id": "85bd6f3a-0a7a-471f-8c33-3c5b14eb2fc7",
   "metadata": {},
   "source": [
    "'generation_numeric' and 'min_age' columns correlate a lot. Also, this is visible on the heatmap.\n",
    "___\n",
    "Exploring 'gpd' columns.\n",
    "Their histograms look like exponential distributions, so I apply np.log() functions to those columns. This way the histograms look more like normal distributions."
   ]
  },
  {
   "cell_type": "code",
   "execution_count": 35,
   "id": "84ae66fe-e1d0-46bb-8f05-ce7aae7f3adc",
   "metadata": {},
   "outputs": [
    {
     "data": {
      "image/png": "[encoded data removed]",
      "text/plain": [
       "<Figure size 1008x576 with 4 Axes>"
      ]
     },
     "metadata": {
      "needs_background": "light"
     },
     "output_type": "display_data"
    }
   ],
   "source": [
    "fig = plt.figure(figsize=(14, 8))\n",
    "plt.subplot(2, 2, 1)\n",
    "data['gdp_per_capita ($)'].hist(bins=12)\n",
    "plt.title('gdp per capita ($) histogram')\n",
    "\n",
    "plt.subplot(2, 2, 2)\n",
    "data[' gdp_for_year ($) '].hist(color='#d5a4cf', bins=12)\n",
    "plt.title('gdp for year ($) histogram')\n",
    "\n",
    "plt.subplot(2, 2, 3)\n",
    "np.log1p(data['gdp_per_capita ($)']).hist(bins=12)\n",
    "plt.title('log gdp per capita ($) histogram')\n",
    "\n",
    "plt.subplot(2, 2, 4)\n",
    "np.log1p(data[' gdp_for_year ($) ']).hist(color='#d5a4cf', bins=12)\n",
    "plt.title('log gdp for year ($) histogram')\n",
    "plt.show()"
   ]
  },
  {
   "cell_type": "code",
   "execution_count": null,
   "id": "cfc7a599-9ebd-4bf9-9960-dfa3db4601d4",
   "metadata": {},
   "outputs": [],
   "source": [
    "# Making new columns with log function applied\n",
    "\n",
    "data['log_gdp_per_capita'] = np.log1p(data[' gdp_for_year ($) '])\n",
    "data['log_gdp_for_year'] = np.log1p(data['gdp_per_capita ($)'])"
   ]
  },
  {
   "cell_type": "markdown",
   "id": "448d6802-c862-4d9b-8b90-4dfd4a4faf3a",
   "metadata": {},
   "source": [
    "## Models building \n",
    "### 1.Polynomial Regression"
   ]
  },
  {
   "cell_type": "code",
   "execution_count": null,
   "id": "fd75d87f-4b1d-4c8e-a9d8-c6980a223a13",
   "metadata": {},
   "outputs": [],
   "source": [
    "from sklearn.preprocessing import PolynomialFeatures\n",
    "from sklearn.linear_model import LinearRegression\n",
    "from sklearn.model_selection import train_test_split\n",
    "from sklearn import metrics\n",
    "\n",
    "X = data[['sex_numeric', 'country_coef', 'population', 'log_gdp_for_year', 'log_gdp_per_capita', 'generation_numeric', 'min_age',]]\n",
    "y = data['suicides_no'].values\n",
    "X_train, X_test, y_train, y_test = train_test_split(X, y, test_size=0.1, random_state=2)\n",
    "X_train, X_test = X_train.copy(), X_test.copy()\n",
    "\n",
    "poly = PolynomialFeatures(degree=2, include_bias=True)\n",
    "x_train_trans = poly.fit_transform(X_train)\n",
    "x_test_trans = poly.transform(X_test)\n",
    "\n",
    "poly_mdl = LinearRegression().fit(x_train_trans, y_train)\n",
    "polynomial_predictions = poly_mdl.predict(x_test_trans)\n",
    "\n",
    "print('Mean Absolute Error:', metrics.mean_absolute_error(y_test, polynomial_predictions))\n",
    "print('Mean Squared Error:', metrics.mean_squared_error(y_test, polynomial_predictions))\n",
    "print('Root Mean Squared Error:', np.sqrt(metrics.mean_squared_error(y_test, polynomial_predictions)))\n",
    "print('R2 score:', metrics.r2_score(y_test, polynomial_predictions))"
   ]
  },
  {
   "cell_type": "markdown",
   "id": "ba367a67-488f-4b82-b858-eb3b98b3089d",
   "metadata": {},
   "source": [
    "### 2.DecisionTreeRegressor "
   ]
  },
  {
   "cell_type": "code",
   "execution_count": 76,
   "id": "d9e4301a-3e33-468a-8766-98a1de20b77e",
   "metadata": {},
   "outputs": [
    {
     "name": "stdout",
     "output_type": "stream",
     "text": [
      "Mean Absolute Error: 25.926421035093988\n",
      "Mean Squared Error: 4716.711724061926\n",
      "Root Mean Squared Error: 68.67832062639509\n",
      "R2 score: 0.9774529869429437\n"
     ]
    }
   ],
   "source": [
    "from sklearn.tree import DecisionTreeRegressor\n",
    "\n",
    "tree_mdl = DecisionTreeRegressor(\n",
    "    criterion='mse', \n",
    "    max_depth=10, \n",
    "    min_samples_split=10,\n",
    "    min_samples_leaf=10 \n",
    ").fit(X_train, y_train)\n",
    "\n",
    "tree_predictions = tree_mdl.predict(X_test)\n",
    "\n",
    "print('Mean Absolute Error:', metrics.mean_absolute_error(y_test, tree_predictions))\n",
    "print('Mean Squared Error:', metrics.mean_squared_error(y_test, tree_predictions))\n",
    "print('Root Mean Squared Error:', np.sqrt(metrics.mean_squared_error(y_test, tree_predictions)))\n",
    "print('R2 score:', metrics.r2_score(y_test, tree_predictions))"
   ]
  },
  {
   "cell_type": "markdown",
   "id": "ae561a13-a40b-4e90-9e69-347edb5a4593",
   "metadata": {},
   "source": [
    "### 3.RandomForestRegressor"
   ]
  },
  {
   "cell_type": "code",
   "execution_count": 77,
   "id": "785a1916-1060-4d5e-935f-da9a2987bdbc",
   "metadata": {},
   "outputs": [
    {
     "name": "stdout",
     "output_type": "stream",
     "text": [
      "Mean Absolute Error: 14.261603095632946\n",
      "Mean Squared Error: 1674.2625764510776\n",
      "Root Mean Squared Error: 40.917753805054815\n",
      "R2 score: 0.9919966234146542\n"
     ]
    }
   ],
   "source": [
    "from sklearn.ensemble import RandomForestRegressor\n",
    "\n",
    "rf_mdl = RandomForestRegressor(\n",
    "    n_estimators=50, \n",
    "    random_state=2, \n",
    "    criterion='mse'\n",
    ").fit(X_train, y_train)\n",
    "\n",
    "rf_predictions = rf_mdl.predict(X_test)\n",
    "\n",
    "print('Mean Absolute Error:', metrics.mean_absolute_error(y_test, rf_predictions))\n",
    "print('Mean Squared Error:', metrics.mean_squared_error(y_test, rf_predictions))\n",
    "print('Root Mean Squared Error:', np.sqrt(metrics.mean_squared_error(y_test, rf_predictions)))\n",
    "print('R2 score:', metrics.r2_score(y_test, rf_predictions))"
   ]
  },
  {
   "cell_type": "code",
   "execution_count": 78,
   "id": "78436536-136a-4411-9262-139b57a02828",
   "metadata": {},
   "outputs": [
    {
     "data": {
      "image/png": "[encoded data removed]",
      "text/plain": [
       "<Figure size 720x432 with 1 Axes>"
      ]
     },
     "metadata": {
      "needs_background": "light"
     },
     "output_type": "display_data"
    }
   ],
   "source": [
    "plt.figure(figsize=(10, 6))\n",
    "poly_mse_array = [metrics.mean_squared_error([a], [b]) for a, b in zip(y_test, polynomial_predictions)]\n",
    "tree_mse_array = [metrics.mean_squared_error([a], [b]) for a, b in zip(y_test, tree_predictions)]\n",
    "rf_mse_array = [metrics.mean_squared_error([a], [b]) for a, b in zip(y_test, rf_predictions)]\n",
    "\n",
    "plt.plot(np.cumsum(poly_mse_array))\n",
    "plt.plot(np.cumsum(tree_mse_array))\n",
    "plt.plot(np.cumsum(rf_mse_array))\n",
    "plt.legend(('Polynomial Regression MSE', 'DecisionTreeRegressor MSE', 'RandomForestRegressor MSE'))\n",
    "plt.show()"
   ]
  },
  {
   "cell_type": "code",
   "execution_count": 79,
   "id": "d6f997a0-4d5b-4af7-9d9f-f7442e3e70ba",
   "metadata": {},
   "outputs": [],
   "source": [
    "test_data = pd.read_csv('Data\\\\test.csv')\n",
    "test_data[' gdp_for_year ($) '] = test_data[' gdp_for_year ($) '].apply(lambda string: int(string.replace(',', '')))\n",
    "\n",
    "test_data['country_coef'] = data['country'].map(frequencies_dict)\n",
    "test_data['sex_numeric'] = np.where(test_data['sex'] == 'male', 0, 1)\n",
    "test_data['min_age'] = data['age'].apply(lambda string: int(string[:2]) if string[1].isnumeric() else int(string[:1]))\n",
    "test_data['log_gdp_per_capita'] = np.log1p(test_data[' gdp_for_year ($) '])\n",
    "test_data['log_gdp_for_year'] = np.log1p(test_data['gdp_per_capita ($)'])\n",
    "test_data['generation_numeric'] = test_data['generation'].map(generation_dict)"
   ]
  },
  {
   "cell_type": "code",
   "execution_count": 80,
   "id": "36c56e60-1b4f-494b-9c88-8f5ec1ef0938",
   "metadata": {},
   "outputs": [],
   "source": [
    "final_test_data = test_data[['sex_numeric', 'country_coef', 'population', 'log_gdp_for_year', 'log_gdp_per_capita', 'generation_numeric', 'min_age']]\n",
    "\n",
    "final_mdl = RandomForestRegressor(\n",
    "    n_estimators=50, \n",
    "    random_state=2, \n",
    "    criterion='mse'\n",
    ").fit(X, y)\n",
    "\n",
    "test_data['suicides_no'] = final_mdl.predict(final_test_data)"
   ]
  },
  {
   "cell_type": "code",
   "execution_count": 81,
   "id": "a422a667-200b-43bd-aae4-aa4b628e6909",
   "metadata": {},
   "outputs": [],
   "source": [
    "sample = pd.read_csv('Data\\\\sample_submission.csv')\n",
    "sample['suicides_no'] = test_data['suicides_no'].astype(int)"
   ]
  },
  {
   "cell_type": "code",
   "execution_count": 136,
   "id": "c17bdb4b-f215-4e87-89e1-94088520eebb",
   "metadata": {},
   "outputs": [],
   "source": [
    "# sample.to_csv('final.csv', index=False)"
   ]
  }
 ],
 "metadata": {
  "kernelspec": {
   "display_name": "Python 3",
   "language": "python",
   "name": "python3"
  },
  "language_info": {
   "codemirror_mode": {
    "name": "ipython",
    "version": 3
   },
   "file_extension": ".py",
   "mimetype": "text/x-python",
   "name": "python",
   "nbconvert_exporter": "python",
   "pygments_lexer": "ipython3",
   "version": "3.8.8"
  }
 },
 "nbformat": 4,
 "nbformat_minor": 5
}
